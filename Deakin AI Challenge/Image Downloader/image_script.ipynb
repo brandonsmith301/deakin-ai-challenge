{
 "cells": [
  {
   "cell_type": "code",
   "execution_count": 1,
   "metadata": {},
   "outputs": [],
   "source": [
    "import os\n",
    "import time\n",
    "import requests\n",
    "from selenium import webdriver\n",
    "from selenium.webdriver.common.by import By\n",
    "from selenium.webdriver.support.ui import WebDriverWait\n",
    "from selenium.webdriver.support import expected_conditions as EC\n",
    "from tqdm import tqdm"
   ]
  },
  {
   "cell_type": "code",
   "execution_count": 1,
   "metadata": {},
   "outputs": [],
   "source": [
    "# Initiate webdriver. \n",
    "driver = webdriver.Chrome()\n",
    "PATH = \"\" # YOUR PATH HERE WHERE YOU WANT TO SAVE IMAGES\n",
    "driver.get('https://frinkiac.com/caption/S15E08/1163621')\n",
    "wait = WebDriverWait(driver, 1)\n",
    "\n",
    "# Run the loop for as many times as you want to download images\n",
    "for i in tqdm(range(50000)):  \n",
    "    # Wait until the image is loaded and then find the div with class name 'full-image'\n",
    "    div = wait.until(EC.presence_of_element_located((By.CLASS_NAME, 'full-image')))\n",
    "\n",
    "    # Find the image inside this div\n",
    "    image = div.find_element(By.TAG_NAME, 'img')\n",
    "\n",
    "    # Get the URL of the image\n",
    "    img_url = image.get_attribute('src')\n",
    "\n",
    "    # Extract unique identifier from the image URL\n",
    "    unique_id = img_url.split('/')[-1].split('.')[0]\n",
    "\n",
    "    # Use requests to download the image\n",
    "    img_data = requests.get(img_url).content\n",
    "    with open(os.path.join(PATH, f'{unique_id}.jpg'), 'wb') as handler:\n",
    "        handler.write(img_data)\n",
    "\n",
    "    # Wait until the 'Random' button is loaded and then find the button's parent div using its class\n",
    "    button_div = wait.until(EC.presence_of_element_located((By.CLASS_NAME, 'random')))\n",
    "\n",
    "    # Find the button inside this div\n",
    "    button = button_div.find_element(By.TAG_NAME, 'button')\n",
    "\n",
    "    # Click the 'Random' button\n",
    "    button.click()\n",
    "\n",
    "# Close the browser\n",
    "driver.quit()"
   ]
  }
 ],
 "metadata": {
  "kernelspec": {
   "display_name": "base",
   "language": "python",
   "name": "python3"
  },
  "language_info": {
   "codemirror_mode": {
    "name": "ipython",
    "version": 3
   },
   "file_extension": ".py",
   "mimetype": "text/x-python",
   "name": "python",
   "nbconvert_exporter": "python",
   "pygments_lexer": "ipython3",
   "version": "3.9.13"
  },
  "orig_nbformat": 4
 },
 "nbformat": 4,
 "nbformat_minor": 2
}
